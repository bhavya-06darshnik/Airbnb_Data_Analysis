{
 "cells": [
  {
   "cell_type": "code",
   "id": "initial_id",
   "metadata": {
    "collapsed": true,
    "ExecuteTime": {
     "end_time": "2025-06-11T06:23:21.186654Z",
     "start_time": "2025-06-11T06:23:19.670758Z"
    }
   },
   "source": [
    "import numpy as np\n",
    "import pandas as pd\n",
    "import seaborn as sb\n",
    "from sklearn import svm\n",
    "from sklearn.metrics import confusion_matrix,accuracy_score\n",
    "from sklearn.metrics import explained_variance_score, mean_squared_error, r2_score\n",
    "import matplotlib.pyplot as plt \n",
    "sb.set() \n",
    "from sklearn.preprocessing import StandardScaler, MinMaxScaler\n",
    "from sklearn.model_selection import train_test_split, cross_val_score\n",
    "\n",
    "# Libraries used for Modelling\n",
    "from sklearn.model_selection import cross_val_score, cross_validate\n",
    "from sklearn.linear_model import LinearRegression\n",
    "import xgboost as xgb\n",
    "from xgboost import plot_importance\n",
    "from xgboost import plot_tree\n",
    "from catboost import CatBoostRegressor\n",
    "from sklearn.ensemble import RandomForestRegressor\n",
    "from sklearn.linear_model import Ridge\n",
    "from sklearn.linear_model import Lasso\n",
    "from sklearn.model_selection import GridSearchCV\n",
    "from sklearn.tree import export_graphviz"
   ],
   "outputs": [],
   "execution_count": 1
  },
  {
   "metadata": {},
   "cell_type": "markdown",
   "source": "## Importing Dataset",
   "id": "d1b98b3c2eeee77d"
  },
  {
   "metadata": {},
   "cell_type": "markdown",
   "source": [
    "The dataset, which is in csv format, is named 'listings.csv'. Based on the work done during Exploratory Analysis, we have concluded that the predictor variables that might have the greatest impact on price are:\n",
    "\n",
    ">Room Type\n",
    ">Property Type\n",
    ">Number of Bedrooms\n",
    ">Amenities\n",
    ">Number of Reviews\n",
    "As such, we single out these variables (together with price) to form a new dataframe."
   ],
   "id": "3f2b961d77230b4f"
  },
  {
   "metadata": {
    "ExecuteTime": {
     "end_time": "2025-06-11T06:23:21.405060Z",
     "start_time": "2025-06-11T06:23:21.196528Z"
    }
   },
   "cell_type": "code",
   "source": "df=pd.read_csv(r'D:\\Airbnb_Data_Analysis\\data\\new_data.csv')",
   "id": "e48efbf4a3bfcc7",
   "outputs": [],
   "execution_count": 2
  },
  {
   "metadata": {
    "ExecuteTime": {
     "end_time": "2025-06-11T06:23:21.766281Z",
     "start_time": "2025-06-11T06:23:21.753281Z"
    }
   },
   "cell_type": "code",
   "source": [
    "newListingsDF= df[['room_type','property_type', 'bedrooms', 'amenities', 'number_of_reviews', 'price']]\n",
    "\n",
    "newListingsDF.info()"
   ],
   "id": "311f1a623cde4ddf",
   "outputs": [
    {
     "name": "stdout",
     "output_type": "stream",
     "text": [
      "<class 'pandas.core.frame.DataFrame'>\n",
      "RangeIndex: 3818 entries, 0 to 3817\n",
      "Data columns (total 6 columns):\n",
      " #   Column             Non-Null Count  Dtype  \n",
      "---  ------             --------------  -----  \n",
      " 0   room_type          3818 non-null   object \n",
      " 1   property_type      3817 non-null   object \n",
      " 2   bedrooms           3812 non-null   float64\n",
      " 3   amenities          3818 non-null   object \n",
      " 4   number_of_reviews  3818 non-null   int64  \n",
      " 5   price              3818 non-null   object \n",
      "dtypes: float64(1), int64(1), object(4)\n",
      "memory usage: 179.1+ KB\n"
     ]
    }
   ],
   "execution_count": 3
  },
  {
   "metadata": {},
   "cell_type": "markdown",
   "source": "### DATA CLEANING",
   "id": "6dcf0a76d36cc13e"
  },
  {
   "metadata": {},
   "cell_type": "markdown",
   "source": "**Amenities**\n",
   "id": "e0ccd19e181f5aee"
  },
  {
   "metadata": {
    "ExecuteTime": {
     "end_time": "2025-06-11T06:23:21.827504Z",
     "start_time": "2025-06-11T06:23:21.799377Z"
    }
   },
   "cell_type": "code",
   "source": [
    "# Creating a set of all possible amenities\n",
    "amenities_list = list(newListingsDF.amenities)\n",
    "amenities_list_string = \" \".join(amenities_list)\n",
    "amenities_list_string = amenities_list_string.replace('{', '')\n",
    "amenities_list_string = amenities_list_string.replace('}', ',')\n",
    "amenities_list_string = amenities_list_string.replace('\"', '')\n",
    "amenities_set = [x.strip() for x in amenities_list_string.split(',')]\n",
    "amenities_set = set(amenities_set)"
   ],
   "id": "a542714c5a43daf",
   "outputs": [],
   "execution_count": 4
  },
  {
   "metadata": {
    "ExecuteTime": {
     "end_time": "2025-06-11T06:23:22.014215Z",
     "start_time": "2025-06-11T06:23:21.891496Z"
    }
   },
   "cell_type": "code",
   "source": [
    "\n",
    "# Creating column variables for each of the different amenities and adding them into the original dataframe\n",
    "newListingsDF.loc[newListingsDF['amenities'].str.contains('24-hour check-in'), 'check_in_24h'] = 1\n",
    "newListingsDF.loc[newListingsDF['amenities'].str.contains('Air conditioning|Central air conditioning'), 'air_conditioning'] = 1\n",
    "newListingsDF.loc[newListingsDF['amenities'].str.contains('Amazon Echo|Apple TV|Game console|Netflix|Projector and screen|Smart TV'), 'high_end_electronics'] = 1\n",
    "newListingsDF.loc[newListingsDF['amenities'].str.contains('BBQ grill|Fire pit|Propane barbeque'), 'bbq'] = 1\n",
    "newListingsDF.loc[newListingsDF['amenities'].str.contains('Balcony|Patio'), 'balcony'] = 1\n",
    "newListingsDF.loc[newListingsDF['amenities'].str.contains('Beach view|Beachfront|Lake access|Mountain view|Ski-in/Ski-out|Waterfront'), 'nature_and_views'] = 1\n",
    "newListingsDF.loc[newListingsDF['amenities'].str.contains('Bed linens'), 'bed_linen'] = 1\n",
    "newListingsDF.loc[newListingsDF['amenities'].str.contains('Breakfast'), 'breakfast'] = 1\n",
    "newListingsDF.loc[newListingsDF['amenities'].str.contains('TV'), 'tv'] = 1\n",
    "newListingsDF.loc[newListingsDF['amenities'].str.contains('Coffee maker|Espresso machine'), 'coffee_machine'] = 1\n",
    "newListingsDF.loc[newListingsDF['amenities'].str.contains('Cooking basics'), 'cooking_basics'] = 1\n",
    "newListingsDF.loc[newListingsDF['amenities'].str.contains('Dishwasher|Dryer|Washer'), 'white_goods'] = 1\n",
    "newListingsDF.loc[newListingsDF['amenities'].str.contains('Elevator'), 'elevator'] = 1\n",
    "newListingsDF.loc[newListingsDF['amenities'].str.contains('Exercise equipment|Gym|gym'), 'gym'] = 1\n",
    "newListingsDF.loc[newListingsDF['amenities'].str.contains('Family/kid friendly|Children|children'), 'child_friendly'] = 1\n",
    "newListingsDF.loc[newListingsDF['amenities'].str.contains('parking'), 'parking'] = 1\n",
    "newListingsDF.loc[newListingsDF['amenities'].str.contains('Garden|Outdoor|Sun loungers|Terrace'), 'outdoor_space'] = 1\n",
    "newListingsDF.loc[newListingsDF['amenities'].str.contains('Host greets you'), 'host_greeting'] = 1\n",
    "newListingsDF.loc[newListingsDF['amenities'].str.contains('Hot tub|Jetted tub|hot tub|Sauna|Pool|pool'), 'hot_tub_sauna_or_pool'] = 1\n",
    "newListingsDF.loc[newListingsDF['amenities'].str.contains('Internet|Pocket wifi|Wifi'), 'internet'] = 1\n",
    "newListingsDF.loc[newListingsDF['amenities'].str.contains('Long term stays allowed'), 'long_term_stays'] = 1\n",
    "newListingsDF.loc[newListingsDF['amenities'].str.contains('Pets|pet|Cat(s)|Dog(s)'), 'pets_allowed'] = 1\n",
    "newListingsDF.loc[newListingsDF['amenities'].str.contains('Private entrance'), 'private_entrance'] = 1\n",
    "newListingsDF.loc[newListingsDF['amenities'].str.contains('Safe|Security system'), 'secure'] = 1\n",
    "newListingsDF.loc[newListingsDF['amenities'].str.contains('Self check-in'), 'self_check_in'] = 1\n",
    "newListingsDF.loc[newListingsDF['amenities'].str.contains('Smoking allowed'), 'smoking_allowed'] = 1\n",
    "newListingsDF.loc[newListingsDF['amenities'].str.contains('Step-free access|Wheelchair|Accessible'), 'accessible'] = 1\n",
    "newListingsDF.loc[newListingsDF['amenities'].str.contains('Suitable for events'), 'event_suitable'] = 1"
   ],
   "id": "70eb83076fbe8631",
   "outputs": [
    {
     "name": "stderr",
     "output_type": "stream",
     "text": [
      "C:\\Users\\psing\\AppData\\Local\\Temp\\ipykernel_23980\\2063162193.py:2: SettingWithCopyWarning: \n",
      "A value is trying to be set on a copy of a slice from a DataFrame.\n",
      "Try using .loc[row_indexer,col_indexer] = value instead\n",
      "\n",
      "See the caveats in the documentation: https://pandas.pydata.org/pandas-docs/stable/user_guide/indexing.html#returning-a-view-versus-a-copy\n",
      "  newListingsDF.loc[newListingsDF['amenities'].str.contains('24-hour check-in'), 'check_in_24h'] = 1\n",
      "C:\\Users\\psing\\AppData\\Local\\Temp\\ipykernel_23980\\2063162193.py:3: SettingWithCopyWarning: \n",
      "A value is trying to be set on a copy of a slice from a DataFrame.\n",
      "Try using .loc[row_indexer,col_indexer] = value instead\n",
      "\n",
      "See the caveats in the documentation: https://pandas.pydata.org/pandas-docs/stable/user_guide/indexing.html#returning-a-view-versus-a-copy\n",
      "  newListingsDF.loc[newListingsDF['amenities'].str.contains('Air conditioning|Central air conditioning'), 'air_conditioning'] = 1\n",
      "C:\\Users\\psing\\AppData\\Local\\Temp\\ipykernel_23980\\2063162193.py:4: SettingWithCopyWarning: \n",
      "A value is trying to be set on a copy of a slice from a DataFrame.\n",
      "Try using .loc[row_indexer,col_indexer] = value instead\n",
      "\n",
      "See the caveats in the documentation: https://pandas.pydata.org/pandas-docs/stable/user_guide/indexing.html#returning-a-view-versus-a-copy\n",
      "  newListingsDF.loc[newListingsDF['amenities'].str.contains('Amazon Echo|Apple TV|Game console|Netflix|Projector and screen|Smart TV'), 'high_end_electronics'] = 1\n",
      "C:\\Users\\psing\\AppData\\Local\\Temp\\ipykernel_23980\\2063162193.py:5: SettingWithCopyWarning: \n",
      "A value is trying to be set on a copy of a slice from a DataFrame.\n",
      "Try using .loc[row_indexer,col_indexer] = value instead\n",
      "\n",
      "See the caveats in the documentation: https://pandas.pydata.org/pandas-docs/stable/user_guide/indexing.html#returning-a-view-versus-a-copy\n",
      "  newListingsDF.loc[newListingsDF['amenities'].str.contains('BBQ grill|Fire pit|Propane barbeque'), 'bbq'] = 1\n",
      "C:\\Users\\psing\\AppData\\Local\\Temp\\ipykernel_23980\\2063162193.py:6: SettingWithCopyWarning: \n",
      "A value is trying to be set on a copy of a slice from a DataFrame.\n",
      "Try using .loc[row_indexer,col_indexer] = value instead\n",
      "\n",
      "See the caveats in the documentation: https://pandas.pydata.org/pandas-docs/stable/user_guide/indexing.html#returning-a-view-versus-a-copy\n",
      "  newListingsDF.loc[newListingsDF['amenities'].str.contains('Balcony|Patio'), 'balcony'] = 1\n",
      "C:\\Users\\psing\\AppData\\Local\\Temp\\ipykernel_23980\\2063162193.py:7: SettingWithCopyWarning: \n",
      "A value is trying to be set on a copy of a slice from a DataFrame.\n",
      "Try using .loc[row_indexer,col_indexer] = value instead\n",
      "\n",
      "See the caveats in the documentation: https://pandas.pydata.org/pandas-docs/stable/user_guide/indexing.html#returning-a-view-versus-a-copy\n",
      "  newListingsDF.loc[newListingsDF['amenities'].str.contains('Beach view|Beachfront|Lake access|Mountain view|Ski-in/Ski-out|Waterfront'), 'nature_and_views'] = 1\n",
      "C:\\Users\\psing\\AppData\\Local\\Temp\\ipykernel_23980\\2063162193.py:8: SettingWithCopyWarning: \n",
      "A value is trying to be set on a copy of a slice from a DataFrame.\n",
      "Try using .loc[row_indexer,col_indexer] = value instead\n",
      "\n",
      "See the caveats in the documentation: https://pandas.pydata.org/pandas-docs/stable/user_guide/indexing.html#returning-a-view-versus-a-copy\n",
      "  newListingsDF.loc[newListingsDF['amenities'].str.contains('Bed linens'), 'bed_linen'] = 1\n",
      "C:\\Users\\psing\\AppData\\Local\\Temp\\ipykernel_23980\\2063162193.py:9: SettingWithCopyWarning: \n",
      "A value is trying to be set on a copy of a slice from a DataFrame.\n",
      "Try using .loc[row_indexer,col_indexer] = value instead\n",
      "\n",
      "See the caveats in the documentation: https://pandas.pydata.org/pandas-docs/stable/user_guide/indexing.html#returning-a-view-versus-a-copy\n",
      "  newListingsDF.loc[newListingsDF['amenities'].str.contains('Breakfast'), 'breakfast'] = 1\n",
      "C:\\Users\\psing\\AppData\\Local\\Temp\\ipykernel_23980\\2063162193.py:10: SettingWithCopyWarning: \n",
      "A value is trying to be set on a copy of a slice from a DataFrame.\n",
      "Try using .loc[row_indexer,col_indexer] = value instead\n",
      "\n",
      "See the caveats in the documentation: https://pandas.pydata.org/pandas-docs/stable/user_guide/indexing.html#returning-a-view-versus-a-copy\n",
      "  newListingsDF.loc[newListingsDF['amenities'].str.contains('TV'), 'tv'] = 1\n",
      "C:\\Users\\psing\\AppData\\Local\\Temp\\ipykernel_23980\\2063162193.py:11: SettingWithCopyWarning: \n",
      "A value is trying to be set on a copy of a slice from a DataFrame.\n",
      "Try using .loc[row_indexer,col_indexer] = value instead\n",
      "\n",
      "See the caveats in the documentation: https://pandas.pydata.org/pandas-docs/stable/user_guide/indexing.html#returning-a-view-versus-a-copy\n",
      "  newListingsDF.loc[newListingsDF['amenities'].str.contains('Coffee maker|Espresso machine'), 'coffee_machine'] = 1\n",
      "C:\\Users\\psing\\AppData\\Local\\Temp\\ipykernel_23980\\2063162193.py:12: SettingWithCopyWarning: \n",
      "A value is trying to be set on a copy of a slice from a DataFrame.\n",
      "Try using .loc[row_indexer,col_indexer] = value instead\n",
      "\n",
      "See the caveats in the documentation: https://pandas.pydata.org/pandas-docs/stable/user_guide/indexing.html#returning-a-view-versus-a-copy\n",
      "  newListingsDF.loc[newListingsDF['amenities'].str.contains('Cooking basics'), 'cooking_basics'] = 1\n",
      "C:\\Users\\psing\\AppData\\Local\\Temp\\ipykernel_23980\\2063162193.py:13: SettingWithCopyWarning: \n",
      "A value is trying to be set on a copy of a slice from a DataFrame.\n",
      "Try using .loc[row_indexer,col_indexer] = value instead\n",
      "\n",
      "See the caveats in the documentation: https://pandas.pydata.org/pandas-docs/stable/user_guide/indexing.html#returning-a-view-versus-a-copy\n",
      "  newListingsDF.loc[newListingsDF['amenities'].str.contains('Dishwasher|Dryer|Washer'), 'white_goods'] = 1\n",
      "C:\\Users\\psing\\AppData\\Local\\Temp\\ipykernel_23980\\2063162193.py:14: SettingWithCopyWarning: \n",
      "A value is trying to be set on a copy of a slice from a DataFrame.\n",
      "Try using .loc[row_indexer,col_indexer] = value instead\n",
      "\n",
      "See the caveats in the documentation: https://pandas.pydata.org/pandas-docs/stable/user_guide/indexing.html#returning-a-view-versus-a-copy\n",
      "  newListingsDF.loc[newListingsDF['amenities'].str.contains('Elevator'), 'elevator'] = 1\n",
      "C:\\Users\\psing\\AppData\\Local\\Temp\\ipykernel_23980\\2063162193.py:15: SettingWithCopyWarning: \n",
      "A value is trying to be set on a copy of a slice from a DataFrame.\n",
      "Try using .loc[row_indexer,col_indexer] = value instead\n",
      "\n",
      "See the caveats in the documentation: https://pandas.pydata.org/pandas-docs/stable/user_guide/indexing.html#returning-a-view-versus-a-copy\n",
      "  newListingsDF.loc[newListingsDF['amenities'].str.contains('Exercise equipment|Gym|gym'), 'gym'] = 1\n",
      "C:\\Users\\psing\\AppData\\Local\\Temp\\ipykernel_23980\\2063162193.py:16: SettingWithCopyWarning: \n",
      "A value is trying to be set on a copy of a slice from a DataFrame.\n",
      "Try using .loc[row_indexer,col_indexer] = value instead\n",
      "\n",
      "See the caveats in the documentation: https://pandas.pydata.org/pandas-docs/stable/user_guide/indexing.html#returning-a-view-versus-a-copy\n",
      "  newListingsDF.loc[newListingsDF['amenities'].str.contains('Family/kid friendly|Children|children'), 'child_friendly'] = 1\n",
      "C:\\Users\\psing\\AppData\\Local\\Temp\\ipykernel_23980\\2063162193.py:17: SettingWithCopyWarning: \n",
      "A value is trying to be set on a copy of a slice from a DataFrame.\n",
      "Try using .loc[row_indexer,col_indexer] = value instead\n",
      "\n",
      "See the caveats in the documentation: https://pandas.pydata.org/pandas-docs/stable/user_guide/indexing.html#returning-a-view-versus-a-copy\n",
      "  newListingsDF.loc[newListingsDF['amenities'].str.contains('parking'), 'parking'] = 1\n",
      "C:\\Users\\psing\\AppData\\Local\\Temp\\ipykernel_23980\\2063162193.py:18: SettingWithCopyWarning: \n",
      "A value is trying to be set on a copy of a slice from a DataFrame.\n",
      "Try using .loc[row_indexer,col_indexer] = value instead\n",
      "\n",
      "See the caveats in the documentation: https://pandas.pydata.org/pandas-docs/stable/user_guide/indexing.html#returning-a-view-versus-a-copy\n",
      "  newListingsDF.loc[newListingsDF['amenities'].str.contains('Garden|Outdoor|Sun loungers|Terrace'), 'outdoor_space'] = 1\n",
      "C:\\Users\\psing\\AppData\\Local\\Temp\\ipykernel_23980\\2063162193.py:19: SettingWithCopyWarning: \n",
      "A value is trying to be set on a copy of a slice from a DataFrame.\n",
      "Try using .loc[row_indexer,col_indexer] = value instead\n",
      "\n",
      "See the caveats in the documentation: https://pandas.pydata.org/pandas-docs/stable/user_guide/indexing.html#returning-a-view-versus-a-copy\n",
      "  newListingsDF.loc[newListingsDF['amenities'].str.contains('Host greets you'), 'host_greeting'] = 1\n",
      "C:\\Users\\psing\\AppData\\Local\\Temp\\ipykernel_23980\\2063162193.py:20: SettingWithCopyWarning: \n",
      "A value is trying to be set on a copy of a slice from a DataFrame.\n",
      "Try using .loc[row_indexer,col_indexer] = value instead\n",
      "\n",
      "See the caveats in the documentation: https://pandas.pydata.org/pandas-docs/stable/user_guide/indexing.html#returning-a-view-versus-a-copy\n",
      "  newListingsDF.loc[newListingsDF['amenities'].str.contains('Hot tub|Jetted tub|hot tub|Sauna|Pool|pool'), 'hot_tub_sauna_or_pool'] = 1\n",
      "C:\\Users\\psing\\AppData\\Local\\Temp\\ipykernel_23980\\2063162193.py:21: SettingWithCopyWarning: \n",
      "A value is trying to be set on a copy of a slice from a DataFrame.\n",
      "Try using .loc[row_indexer,col_indexer] = value instead\n",
      "\n",
      "See the caveats in the documentation: https://pandas.pydata.org/pandas-docs/stable/user_guide/indexing.html#returning-a-view-versus-a-copy\n",
      "  newListingsDF.loc[newListingsDF['amenities'].str.contains('Internet|Pocket wifi|Wifi'), 'internet'] = 1\n",
      "C:\\Users\\psing\\AppData\\Local\\Temp\\ipykernel_23980\\2063162193.py:22: SettingWithCopyWarning: \n",
      "A value is trying to be set on a copy of a slice from a DataFrame.\n",
      "Try using .loc[row_indexer,col_indexer] = value instead\n",
      "\n",
      "See the caveats in the documentation: https://pandas.pydata.org/pandas-docs/stable/user_guide/indexing.html#returning-a-view-versus-a-copy\n",
      "  newListingsDF.loc[newListingsDF['amenities'].str.contains('Long term stays allowed'), 'long_term_stays'] = 1\n",
      "C:\\Users\\psing\\AppData\\Local\\Temp\\ipykernel_23980\\2063162193.py:23: UserWarning: This pattern is interpreted as a regular expression, and has match groups. To actually get the groups, use str.extract.\n",
      "  newListingsDF.loc[newListingsDF['amenities'].str.contains('Pets|pet|Cat(s)|Dog(s)'), 'pets_allowed'] = 1\n",
      "C:\\Users\\psing\\AppData\\Local\\Temp\\ipykernel_23980\\2063162193.py:23: SettingWithCopyWarning: \n",
      "A value is trying to be set on a copy of a slice from a DataFrame.\n",
      "Try using .loc[row_indexer,col_indexer] = value instead\n",
      "\n",
      "See the caveats in the documentation: https://pandas.pydata.org/pandas-docs/stable/user_guide/indexing.html#returning-a-view-versus-a-copy\n",
      "  newListingsDF.loc[newListingsDF['amenities'].str.contains('Pets|pet|Cat(s)|Dog(s)'), 'pets_allowed'] = 1\n",
      "C:\\Users\\psing\\AppData\\Local\\Temp\\ipykernel_23980\\2063162193.py:24: SettingWithCopyWarning: \n",
      "A value is trying to be set on a copy of a slice from a DataFrame.\n",
      "Try using .loc[row_indexer,col_indexer] = value instead\n",
      "\n",
      "See the caveats in the documentation: https://pandas.pydata.org/pandas-docs/stable/user_guide/indexing.html#returning-a-view-versus-a-copy\n",
      "  newListingsDF.loc[newListingsDF['amenities'].str.contains('Private entrance'), 'private_entrance'] = 1\n",
      "C:\\Users\\psing\\AppData\\Local\\Temp\\ipykernel_23980\\2063162193.py:25: SettingWithCopyWarning: \n",
      "A value is trying to be set on a copy of a slice from a DataFrame.\n",
      "Try using .loc[row_indexer,col_indexer] = value instead\n",
      "\n",
      "See the caveats in the documentation: https://pandas.pydata.org/pandas-docs/stable/user_guide/indexing.html#returning-a-view-versus-a-copy\n",
      "  newListingsDF.loc[newListingsDF['amenities'].str.contains('Safe|Security system'), 'secure'] = 1\n",
      "C:\\Users\\psing\\AppData\\Local\\Temp\\ipykernel_23980\\2063162193.py:26: SettingWithCopyWarning: \n",
      "A value is trying to be set on a copy of a slice from a DataFrame.\n",
      "Try using .loc[row_indexer,col_indexer] = value instead\n",
      "\n",
      "See the caveats in the documentation: https://pandas.pydata.org/pandas-docs/stable/user_guide/indexing.html#returning-a-view-versus-a-copy\n",
      "  newListingsDF.loc[newListingsDF['amenities'].str.contains('Self check-in'), 'self_check_in'] = 1\n",
      "C:\\Users\\psing\\AppData\\Local\\Temp\\ipykernel_23980\\2063162193.py:27: SettingWithCopyWarning: \n",
      "A value is trying to be set on a copy of a slice from a DataFrame.\n",
      "Try using .loc[row_indexer,col_indexer] = value instead\n",
      "\n",
      "See the caveats in the documentation: https://pandas.pydata.org/pandas-docs/stable/user_guide/indexing.html#returning-a-view-versus-a-copy\n",
      "  newListingsDF.loc[newListingsDF['amenities'].str.contains('Smoking allowed'), 'smoking_allowed'] = 1\n",
      "C:\\Users\\psing\\AppData\\Local\\Temp\\ipykernel_23980\\2063162193.py:28: SettingWithCopyWarning: \n",
      "A value is trying to be set on a copy of a slice from a DataFrame.\n",
      "Try using .loc[row_indexer,col_indexer] = value instead\n",
      "\n",
      "See the caveats in the documentation: https://pandas.pydata.org/pandas-docs/stable/user_guide/indexing.html#returning-a-view-versus-a-copy\n",
      "  newListingsDF.loc[newListingsDF['amenities'].str.contains('Step-free access|Wheelchair|Accessible'), 'accessible'] = 1\n",
      "C:\\Users\\psing\\AppData\\Local\\Temp\\ipykernel_23980\\2063162193.py:29: SettingWithCopyWarning: \n",
      "A value is trying to be set on a copy of a slice from a DataFrame.\n",
      "Try using .loc[row_indexer,col_indexer] = value instead\n",
      "\n",
      "See the caveats in the documentation: https://pandas.pydata.org/pandas-docs/stable/user_guide/indexing.html#returning-a-view-versus-a-copy\n",
      "  newListingsDF.loc[newListingsDF['amenities'].str.contains('Suitable for events'), 'event_suitable'] = 1\n"
     ]
    }
   ],
   "execution_count": 5
  },
  {
   "metadata": {
    "ExecuteTime": {
     "end_time": "2025-06-11T06:23:22.106663Z",
     "start_time": "2025-06-11T06:23:22.099343Z"
    }
   },
   "cell_type": "code",
   "source": [
    "# Replacing nulls with zeros for new columns\n",
    "cols_to_replace_nulls = newListingsDF.iloc[:,41:].columns\n",
    "newListingsDF[cols_to_replace_nulls] = newListingsDF[cols_to_replace_nulls].fillna(0)\n",
    "\n",
    "# Dropping the original amenities variable\n",
    "newListingsDF.drop('amenities', axis=1, inplace=True)"
   ],
   "id": "aaf410751b88ad18",
   "outputs": [
    {
     "name": "stderr",
     "output_type": "stream",
     "text": [
      "C:\\Users\\psing\\AppData\\Local\\Temp\\ipykernel_23980\\2847193653.py:6: SettingWithCopyWarning: \n",
      "A value is trying to be set on a copy of a slice from a DataFrame\n",
      "\n",
      "See the caveats in the documentation: https://pandas.pydata.org/pandas-docs/stable/user_guide/indexing.html#returning-a-view-versus-a-copy\n",
      "  newListingsDF.drop('amenities', axis=1, inplace=True)\n"
     ]
    }
   ],
   "execution_count": 6
  },
  {
   "metadata": {
    "ExecuteTime": {
     "end_time": "2025-06-11T06:23:22.217490Z",
     "start_time": "2025-06-11T06:23:22.189994Z"
    }
   },
   "cell_type": "code",
   "source": [
    "# Removing the amenities which have all NULL values for all listings\n",
    "newListingsDF = newListingsDF.dropna(axis=1, how='all')\n",
    "newListingsDF.info()"
   ],
   "id": "63d994da9ade1b66",
   "outputs": [
    {
     "name": "stdout",
     "output_type": "stream",
     "text": [
      "<class 'pandas.core.frame.DataFrame'>\n",
      "RangeIndex: 3818 entries, 0 to 3817\n",
      "Data columns (total 15 columns):\n",
      " #   Column                 Non-Null Count  Dtype  \n",
      "---  ------                 --------------  -----  \n",
      " 0   room_type              3818 non-null   object \n",
      " 1   property_type          3817 non-null   object \n",
      " 2   bedrooms               3812 non-null   float64\n",
      " 3   number_of_reviews      3818 non-null   int64  \n",
      " 4   price                  3818 non-null   object \n",
      " 5   breakfast              291 non-null    float64\n",
      " 6   tv                     2741 non-null   float64\n",
      " 7   white_goods            3134 non-null   float64\n",
      " 8   elevator               785 non-null    float64\n",
      " 9   gym                    442 non-null    float64\n",
      " 10  hot_tub_sauna_or_pool  159 non-null    float64\n",
      " 11  internet               3692 non-null   float64\n",
      " 12  pets_allowed           1169 non-null   float64\n",
      " 13  secure                 727 non-null    float64\n",
      " 14  accessible             300 non-null    float64\n",
      "dtypes: float64(11), int64(1), object(3)\n",
      "memory usage: 447.5+ KB\n"
     ]
    }
   ],
   "execution_count": 7
  },
  {
   "metadata": {},
   "cell_type": "markdown",
   "source": [
    "**Property Type**\n",
    "\n"
   ],
   "id": "def58809d55e439a"
  },
  {
   "metadata": {},
   "cell_type": "markdown",
   "source": "",
   "id": "707a007f30dbf466"
  },
  {
   "metadata": {
    "ExecuteTime": {
     "end_time": "2025-06-11T06:25:18.333913Z",
     "start_time": "2025-06-11T06:25:18.300200Z"
    }
   },
   "cell_type": "code",
   "source": "newListingsDF.head()",
   "id": "cd7738a870d7a48e",
   "outputs": [
    {
     "data": {
      "text/plain": [
       "         room_type property_type  bedrooms  number_of_reviews    price  \\\n",
       "0  Entire home/apt     Apartment       1.0                207   $85.00   \n",
       "1  Entire home/apt     Apartment       1.0                 43  $150.00   \n",
       "2  Entire home/apt         House       5.0                 20  $975.00   \n",
       "3  Entire home/apt     Apartment       0.0                  0  $100.00   \n",
       "4  Entire home/apt         House       3.0                 38  $450.00   \n",
       "\n",
       "   breakfast   tv  white_goods  elevator  gym  hot_tub_sauna_or_pool  \\\n",
       "0        NaN  1.0          1.0       NaN  NaN                    NaN   \n",
       "1        NaN  1.0          1.0       NaN  NaN                    NaN   \n",
       "2        NaN  1.0          1.0       NaN  NaN                    NaN   \n",
       "3        NaN  NaN          1.0       NaN  NaN                    NaN   \n",
       "4        NaN  1.0          NaN       NaN  NaN                    NaN   \n",
       "\n",
       "   internet  pets_allowed  secure  accessible  \n",
       "0       1.0           NaN     NaN         NaN  \n",
       "1       1.0           NaN     1.0         NaN  \n",
       "2       1.0           1.0     NaN         NaN  \n",
       "3       1.0           NaN     1.0         NaN  \n",
       "4       1.0           NaN     NaN         NaN  "
      ],
      "text/html": [
       "<div>\n",
       "<style scoped>\n",
       "    .dataframe tbody tr th:only-of-type {\n",
       "        vertical-align: middle;\n",
       "    }\n",
       "\n",
       "    .dataframe tbody tr th {\n",
       "        vertical-align: top;\n",
       "    }\n",
       "\n",
       "    .dataframe thead th {\n",
       "        text-align: right;\n",
       "    }\n",
       "</style>\n",
       "<table border=\"1\" class=\"dataframe\">\n",
       "  <thead>\n",
       "    <tr style=\"text-align: right;\">\n",
       "      <th></th>\n",
       "      <th>room_type</th>\n",
       "      <th>property_type</th>\n",
       "      <th>bedrooms</th>\n",
       "      <th>number_of_reviews</th>\n",
       "      <th>price</th>\n",
       "      <th>breakfast</th>\n",
       "      <th>tv</th>\n",
       "      <th>white_goods</th>\n",
       "      <th>elevator</th>\n",
       "      <th>gym</th>\n",
       "      <th>hot_tub_sauna_or_pool</th>\n",
       "      <th>internet</th>\n",
       "      <th>pets_allowed</th>\n",
       "      <th>secure</th>\n",
       "      <th>accessible</th>\n",
       "    </tr>\n",
       "  </thead>\n",
       "  <tbody>\n",
       "    <tr>\n",
       "      <th>0</th>\n",
       "      <td>Entire home/apt</td>\n",
       "      <td>Apartment</td>\n",
       "      <td>1.0</td>\n",
       "      <td>207</td>\n",
       "      <td>$85.00</td>\n",
       "      <td>NaN</td>\n",
       "      <td>1.0</td>\n",
       "      <td>1.0</td>\n",
       "      <td>NaN</td>\n",
       "      <td>NaN</td>\n",
       "      <td>NaN</td>\n",
       "      <td>1.0</td>\n",
       "      <td>NaN</td>\n",
       "      <td>NaN</td>\n",
       "      <td>NaN</td>\n",
       "    </tr>\n",
       "    <tr>\n",
       "      <th>1</th>\n",
       "      <td>Entire home/apt</td>\n",
       "      <td>Apartment</td>\n",
       "      <td>1.0</td>\n",
       "      <td>43</td>\n",
       "      <td>$150.00</td>\n",
       "      <td>NaN</td>\n",
       "      <td>1.0</td>\n",
       "      <td>1.0</td>\n",
       "      <td>NaN</td>\n",
       "      <td>NaN</td>\n",
       "      <td>NaN</td>\n",
       "      <td>1.0</td>\n",
       "      <td>NaN</td>\n",
       "      <td>1.0</td>\n",
       "      <td>NaN</td>\n",
       "    </tr>\n",
       "    <tr>\n",
       "      <th>2</th>\n",
       "      <td>Entire home/apt</td>\n",
       "      <td>House</td>\n",
       "      <td>5.0</td>\n",
       "      <td>20</td>\n",
       "      <td>$975.00</td>\n",
       "      <td>NaN</td>\n",
       "      <td>1.0</td>\n",
       "      <td>1.0</td>\n",
       "      <td>NaN</td>\n",
       "      <td>NaN</td>\n",
       "      <td>NaN</td>\n",
       "      <td>1.0</td>\n",
       "      <td>1.0</td>\n",
       "      <td>NaN</td>\n",
       "      <td>NaN</td>\n",
       "    </tr>\n",
       "    <tr>\n",
       "      <th>3</th>\n",
       "      <td>Entire home/apt</td>\n",
       "      <td>Apartment</td>\n",
       "      <td>0.0</td>\n",
       "      <td>0</td>\n",
       "      <td>$100.00</td>\n",
       "      <td>NaN</td>\n",
       "      <td>NaN</td>\n",
       "      <td>1.0</td>\n",
       "      <td>NaN</td>\n",
       "      <td>NaN</td>\n",
       "      <td>NaN</td>\n",
       "      <td>1.0</td>\n",
       "      <td>NaN</td>\n",
       "      <td>1.0</td>\n",
       "      <td>NaN</td>\n",
       "    </tr>\n",
       "    <tr>\n",
       "      <th>4</th>\n",
       "      <td>Entire home/apt</td>\n",
       "      <td>House</td>\n",
       "      <td>3.0</td>\n",
       "      <td>38</td>\n",
       "      <td>$450.00</td>\n",
       "      <td>NaN</td>\n",
       "      <td>1.0</td>\n",
       "      <td>NaN</td>\n",
       "      <td>NaN</td>\n",
       "      <td>NaN</td>\n",
       "      <td>NaN</td>\n",
       "      <td>1.0</td>\n",
       "      <td>NaN</td>\n",
       "      <td>NaN</td>\n",
       "      <td>NaN</td>\n",
       "    </tr>\n",
       "  </tbody>\n",
       "</table>\n",
       "</div>"
      ]
     },
     "execution_count": 8,
     "metadata": {},
     "output_type": "execute_result"
    }
   ],
   "execution_count": 8
  },
  {
   "metadata": {
    "ExecuteTime": {
     "end_time": "2025-06-11T12:43:14.761375Z",
     "start_time": "2025-06-11T12:43:14.738486Z"
    }
   },
   "cell_type": "code",
   "source": "newListingsDF.property_type.value_counts()",
   "id": "46c6b1a64b576473",
   "outputs": [
    {
     "data": {
      "text/plain": [
       "property_type\n",
       "House              1733\n",
       "Apartment          1708\n",
       "Townhouse           118\n",
       "Condominium          91\n",
       "Loft                 40\n",
       "Bed & Breakfast      37\n",
       "Other                22\n",
       "Cabin                21\n",
       "Camper/RV            13\n",
       "Bungalow             13\n",
       "Boat                  8\n",
       "Tent                  5\n",
       "Treehouse             3\n",
       "Dorm                  2\n",
       "Chalet                2\n",
       "Yurt                  1\n",
       "Name: count, dtype: int64"
      ]
     },
     "execution_count": 9,
     "metadata": {},
     "output_type": "execute_result"
    }
   ],
   "execution_count": 9
  },
  {
   "metadata": {
    "ExecuteTime": {
     "end_time": "2025-06-11T12:43:32.033895Z",
     "start_time": "2025-06-11T12:43:32.019603Z"
    }
   },
   "cell_type": "code",
   "source": [
    "newListingsDF.loc[~newListingsDF.property_type.isin(['House', 'Apartment','Townhouse','Condominium','Loft',\"Bed & Breakfast\"]), 'property_type'] = 'Other'\n",
    "newListingsDF.property_type.value_counts() # Grouping property types with less than <30 count into 'Other'"
   ],
   "id": "4a5b1c3dff0acdb2",
   "outputs": [
    {
     "data": {
      "text/plain": [
       "property_type\n",
       "House              1733\n",
       "Apartment          1708\n",
       "Townhouse           118\n",
       "Other                91\n",
       "Condominium          91\n",
       "Loft                 40\n",
       "Bed & Breakfast      37\n",
       "Name: count, dtype: int64"
      ]
     },
     "execution_count": 10,
     "metadata": {},
     "output_type": "execute_result"
    }
   ],
   "execution_count": 10
  },
  {
   "metadata": {},
   "cell_type": "markdown",
   "source": "**Price**",
   "id": "654a49bf50b877e4"
  },
  {
   "metadata": {
    "ExecuteTime": {
     "end_time": "2025-06-11T12:44:15.956418Z",
     "start_time": "2025-06-11T12:44:15.936151Z"
    }
   },
   "cell_type": "code",
   "source": [
    "newListingsDF.price = newListingsDF.price.str[1:-3]\n",
    "newListingsDF.price = newListingsDF.price.str.replace(\",\", \"\")\n",
    "newListingsDF.price = newListingsDF.price.astype('int64')\n",
    "newListingsDF.info()"
   ],
   "id": "def84d1a6561638a",
   "outputs": [
    {
     "name": "stdout",
     "output_type": "stream",
     "text": [
      "<class 'pandas.core.frame.DataFrame'>\n",
      "RangeIndex: 3818 entries, 0 to 3817\n",
      "Data columns (total 15 columns):\n",
      " #   Column                 Non-Null Count  Dtype  \n",
      "---  ------                 --------------  -----  \n",
      " 0   room_type              3818 non-null   object \n",
      " 1   property_type          3818 non-null   object \n",
      " 2   bedrooms               3812 non-null   float64\n",
      " 3   number_of_reviews      3818 non-null   int64  \n",
      " 4   price                  3818 non-null   int64  \n",
      " 5   breakfast              291 non-null    float64\n",
      " 6   tv                     2741 non-null   float64\n",
      " 7   white_goods            3134 non-null   float64\n",
      " 8   elevator               785 non-null    float64\n",
      " 9   gym                    442 non-null    float64\n",
      " 10  hot_tub_sauna_or_pool  159 non-null    float64\n",
      " 11  internet               3692 non-null   float64\n",
      " 12  pets_allowed           1169 non-null   float64\n",
      " 13  secure                 727 non-null    float64\n",
      " 14  accessible             300 non-null    float64\n",
      "dtypes: float64(11), int64(2), object(2)\n",
      "memory usage: 447.5+ KB\n"
     ]
    }
   ],
   "execution_count": 11
  },
  {
   "metadata": {
    "ExecuteTime": {
     "end_time": "2025-06-11T12:44:33.585603Z",
     "start_time": "2025-06-11T12:44:33.567841Z"
    }
   },
   "cell_type": "code",
   "source": [
    "# To convert NaN values to 0 for preparation for Modelling\n",
    "newListingsDF = newListingsDF.fillna(0)\n",
    "# Checking to ensure that there are no NULL entries\n",
    "newListingsDF.isnull().sum()\n"
   ],
   "id": "7f9b449a603e02c0",
   "outputs": [
    {
     "data": {
      "text/plain": [
       "room_type                0\n",
       "property_type            0\n",
       "bedrooms                 0\n",
       "number_of_reviews        0\n",
       "price                    0\n",
       "breakfast                0\n",
       "tv                       0\n",
       "white_goods              0\n",
       "elevator                 0\n",
       "gym                      0\n",
       "hot_tub_sauna_or_pool    0\n",
       "internet                 0\n",
       "pets_allowed             0\n",
       "secure                   0\n",
       "accessible               0\n",
       "dtype: int64"
      ]
     },
     "execution_count": 12,
     "metadata": {},
     "output_type": "execute_result"
    }
   ],
   "execution_count": 12
  },
  {
   "metadata": {},
   "cell_type": "markdown",
   "source": [
    "## REGRESSION MODELS\n",
    "\n",
    "Regression models are used to target a prediction value based on independent variables and it is mostly used for finding out the relationship between variables as well as preidction/forecasting.\n",
    "\n",
    "Here, we use regression models to help predict the price based on the significant predictor variables identified in Exploratory Analysis.\n"
   ],
   "id": "42075bc5c7e42d4f"
  },
  {
   "metadata": {},
   "cell_type": "markdown",
   "source": [
    "### DATA PREPARATION\n",
    "\n"
   ],
   "id": "c81d1a86d59a0175"
  },
  {
   "metadata": {
    "ExecuteTime": {
     "end_time": "2025-06-11T12:48:44.932597Z",
     "start_time": "2025-06-11T12:48:44.907400Z"
    }
   },
   "cell_type": "code",
   "source": [
    "# one-hot encoding\n",
    "transformedDF = pd.get_dummies(newListingsDF, columns=['room_type','property_type'])\n",
    "\n",
    "#renaming some categories to remove '/' and blank spaces\n",
    "newTransformedDF = transformedDF.rename(columns={'room_type_Entire home/apt': 'room_type_Entire_home_apt'})\n",
    "newTransformedDF =newTransformedDF.rename(columns={'room_type_Private room': 'room_type_Private_room'})\n",
    "newTransformedDF =newTransformedDF.rename(columns={'room_type_Shared room': 'room_type_Shared_room'})\n",
    "newTransformedDF =newTransformedDF.rename(columns={'property_type_Bed & Breakfast': 'property_type_Bed_and_Breakfast'})\n",
    "\n",
    "newTransformedDF.info()\n",
    "\n"
   ],
   "id": "61fef5464696d1ad",
   "outputs": [
    {
     "name": "stdout",
     "output_type": "stream",
     "text": [
      "<class 'pandas.core.frame.DataFrame'>\n",
      "RangeIndex: 3818 entries, 0 to 3817\n",
      "Data columns (total 23 columns):\n",
      " #   Column                           Non-Null Count  Dtype  \n",
      "---  ------                           --------------  -----  \n",
      " 0   bedrooms                         3818 non-null   float64\n",
      " 1   number_of_reviews                3818 non-null   int64  \n",
      " 2   price                            3818 non-null   int64  \n",
      " 3   breakfast                        3818 non-null   float64\n",
      " 4   tv                               3818 non-null   float64\n",
      " 5   white_goods                      3818 non-null   float64\n",
      " 6   elevator                         3818 non-null   float64\n",
      " 7   gym                              3818 non-null   float64\n",
      " 8   hot_tub_sauna_or_pool            3818 non-null   float64\n",
      " 9   internet                         3818 non-null   float64\n",
      " 10  pets_allowed                     3818 non-null   float64\n",
      " 11  secure                           3818 non-null   float64\n",
      " 12  accessible                       3818 non-null   float64\n",
      " 13  room_type_Entire_home_apt        3818 non-null   bool   \n",
      " 14  room_type_Private_room           3818 non-null   bool   \n",
      " 15  room_type_Shared_room            3818 non-null   bool   \n",
      " 16  property_type_Apartment          3818 non-null   bool   \n",
      " 17  property_type_Bed_and_Breakfast  3818 non-null   bool   \n",
      " 18  property_type_Condominium        3818 non-null   bool   \n",
      " 19  property_type_House              3818 non-null   bool   \n",
      " 20  property_type_Loft               3818 non-null   bool   \n",
      " 21  property_type_Other              3818 non-null   bool   \n",
      " 22  property_type_Townhouse          3818 non-null   bool   \n",
      "dtypes: bool(10), float64(11), int64(2)\n",
      "memory usage: 425.2 KB\n"
     ]
    }
   ],
   "execution_count": 13
  },
  {
   "metadata": {
    "ExecuteTime": {
     "end_time": "2025-06-11T12:49:06.290949Z",
     "start_time": "2025-06-11T12:49:06.275681Z"
    }
   },
   "cell_type": "code",
   "source": [
    "# Separating X and y for Modelling\n",
    "X = pd.DataFrame(newTransformedDF[[\"bedrooms\", \"breakfast\", \"tv\", \"white_goods\", \"elevator\", \"gym\", \"hot_tub_sauna_or_pool\",\n",
    "                                   \"internet\", \"pets_allowed\", \"secure\", \"accessible\",\"number_of_reviews\",\"room_type_Entire_home_apt\",\n",
    "                                   \"room_type_Private_room\", \"room_type_Shared_room\", \"property_type_Apartment\",\n",
    "                                   \"property_type_Bed_and_Breakfast\", \"property_type_Condominium\", \"property_type_House\",\n",
    "                                   \"property_type_Loft\", \"property_type_Other\", \"property_type_Townhouse\"]]) #Predictor Variables\n",
    "y = pd.DataFrame(newTransformedDF[\"price\"]) #Response Variables\n",
    "\n",
    "# Scaling\n",
    "scaler = StandardScaler()\n",
    "X = pd.DataFrame(scaler.fit_transform(X), columns=list(X.columns))"
   ],
   "id": "c2e49eef2252dc44",
   "outputs": [],
   "execution_count": 14
  },
  {
   "metadata": {
    "ExecuteTime": {
     "end_time": "2025-06-11T12:49:17.010792Z",
     "start_time": "2025-06-11T12:49:16.990333Z"
    }
   },
   "cell_type": "code",
   "source": "X_train, X_test, y_train, y_test = train_test_split(X, y, test_size=0.2)",
   "id": "575ae120dfadf966",
   "outputs": [],
   "execution_count": 15
  },
  {
   "metadata": {},
   "cell_type": "markdown",
   "source": [
    "### MODEL 1: Linear Regression\n",
    "\n",
    "Linear Regression is a machine learning algorithm that is based on supervised learning. It performs the regression task to predict a dependent variable value (in this case, price) based on given independent variables (in this case, the identified predictor variables).\n",
    "\n",
    "It then tries to find a linear relationship between the variables and predicts the price based on the linear line."
   ],
   "id": "49b7eee3faabba40"
  },
  {
   "metadata": {
    "ExecuteTime": {
     "end_time": "2025-06-11T12:50:59.889016Z",
     "start_time": "2025-06-11T12:50:59.117660Z"
    }
   },
   "cell_type": "code",
   "source": [
    "lr=LinearRegression()\n",
    "lr.fit(X_train, y_train)"
   ],
   "id": "f339971b7b2332a9",
   "outputs": [
    {
     "data": {
      "text/plain": [
       "LinearRegression()"
      ],
      "text/html": [
       "<style>#sk-container-id-1 {color: black;}#sk-container-id-1 pre{padding: 0;}#sk-container-id-1 div.sk-toggleable {background-color: white;}#sk-container-id-1 label.sk-toggleable__label {cursor: pointer;display: block;width: 100%;margin-bottom: 0;padding: 0.3em;box-sizing: border-box;text-align: center;}#sk-container-id-1 label.sk-toggleable__label-arrow:before {content: \"▸\";float: left;margin-right: 0.25em;color: #696969;}#sk-container-id-1 label.sk-toggleable__label-arrow:hover:before {color: black;}#sk-container-id-1 div.sk-estimator:hover label.sk-toggleable__label-arrow:before {color: black;}#sk-container-id-1 div.sk-toggleable__content {max-height: 0;max-width: 0;overflow: hidden;text-align: left;background-color: #f0f8ff;}#sk-container-id-1 div.sk-toggleable__content pre {margin: 0.2em;color: black;border-radius: 0.25em;background-color: #f0f8ff;}#sk-container-id-1 input.sk-toggleable__control:checked~div.sk-toggleable__content {max-height: 200px;max-width: 100%;overflow: auto;}#sk-container-id-1 input.sk-toggleable__control:checked~label.sk-toggleable__label-arrow:before {content: \"▾\";}#sk-container-id-1 div.sk-estimator input.sk-toggleable__control:checked~label.sk-toggleable__label {background-color: #d4ebff;}#sk-container-id-1 div.sk-label input.sk-toggleable__control:checked~label.sk-toggleable__label {background-color: #d4ebff;}#sk-container-id-1 input.sk-hidden--visually {border: 0;clip: rect(1px 1px 1px 1px);clip: rect(1px, 1px, 1px, 1px);height: 1px;margin: -1px;overflow: hidden;padding: 0;position: absolute;width: 1px;}#sk-container-id-1 div.sk-estimator {font-family: monospace;background-color: #f0f8ff;border: 1px dotted black;border-radius: 0.25em;box-sizing: border-box;margin-bottom: 0.5em;}#sk-container-id-1 div.sk-estimator:hover {background-color: #d4ebff;}#sk-container-id-1 div.sk-parallel-item::after {content: \"\";width: 100%;border-bottom: 1px solid gray;flex-grow: 1;}#sk-container-id-1 div.sk-label:hover label.sk-toggleable__label {background-color: #d4ebff;}#sk-container-id-1 div.sk-serial::before {content: \"\";position: absolute;border-left: 1px solid gray;box-sizing: border-box;top: 0;bottom: 0;left: 50%;z-index: 0;}#sk-container-id-1 div.sk-serial {display: flex;flex-direction: column;align-items: center;background-color: white;padding-right: 0.2em;padding-left: 0.2em;position: relative;}#sk-container-id-1 div.sk-item {position: relative;z-index: 1;}#sk-container-id-1 div.sk-parallel {display: flex;align-items: stretch;justify-content: center;background-color: white;position: relative;}#sk-container-id-1 div.sk-item::before, #sk-container-id-1 div.sk-parallel-item::before {content: \"\";position: absolute;border-left: 1px solid gray;box-sizing: border-box;top: 0;bottom: 0;left: 50%;z-index: -1;}#sk-container-id-1 div.sk-parallel-item {display: flex;flex-direction: column;z-index: 1;position: relative;background-color: white;}#sk-container-id-1 div.sk-parallel-item:first-child::after {align-self: flex-end;width: 50%;}#sk-container-id-1 div.sk-parallel-item:last-child::after {align-self: flex-start;width: 50%;}#sk-container-id-1 div.sk-parallel-item:only-child::after {width: 0;}#sk-container-id-1 div.sk-dashed-wrapped {border: 1px dashed gray;margin: 0 0.4em 0.5em 0.4em;box-sizing: border-box;padding-bottom: 0.4em;background-color: white;}#sk-container-id-1 div.sk-label label {font-family: monospace;font-weight: bold;display: inline-block;line-height: 1.2em;}#sk-container-id-1 div.sk-label-container {text-align: center;}#sk-container-id-1 div.sk-container {/* jupyter's `normalize.less` sets `[hidden] { display: none; }` but bootstrap.min.css set `[hidden] { display: none !important; }` so we also need the `!important` here to be able to override the default hidden behavior on the sphinx rendered scikit-learn.org. See: https://github.com/scikit-learn/scikit-learn/issues/21755 */display: inline-block !important;position: relative;}#sk-container-id-1 div.sk-text-repr-fallback {display: none;}</style><div id=\"sk-container-id-1\" class=\"sk-top-container\"><div class=\"sk-text-repr-fallback\"><pre>LinearRegression()</pre><b>In a Jupyter environment, please rerun this cell to show the HTML representation or trust the notebook. <br />On GitHub, the HTML representation is unable to render, please try loading this page with nbviewer.org.</b></div><div class=\"sk-container\" hidden><div class=\"sk-item\"><div class=\"sk-estimator sk-toggleable\"><input class=\"sk-toggleable__control sk-hidden--visually\" id=\"sk-estimator-id-1\" type=\"checkbox\" checked><label for=\"sk-estimator-id-1\" class=\"sk-toggleable__label sk-toggleable__label-arrow\">LinearRegression</label><div class=\"sk-toggleable__content\"><pre>LinearRegression()</pre></div></div></div></div></div>"
      ]
     },
     "execution_count": 16,
     "metadata": {},
     "output_type": "execute_result"
    }
   ],
   "execution_count": 16
  },
  {
   "metadata": {
    "ExecuteTime": {
     "end_time": "2025-06-11T12:51:44.724504Z",
     "start_time": "2025-06-11T12:51:44.704557Z"
    }
   },
   "cell_type": "code",
   "source": [
    "# Coefficients of the Linear Regression line\n",
    "print('Intercept of Regression \\t: b = ', lr.intercept_)\n",
    "print()\n",
    "\n",
    "# Print the Coefficients against Predictors\n",
    "print(pd.DataFrame(list(zip(X_train.columns, lr.coef_[0])), columns = [\"Predictors\", \"Coefficients\"]))\n",
    "print()"
   ],
   "id": "ff517b36718433c5",
   "outputs": [
    {
     "name": "stdout",
     "output_type": "stream",
     "text": [
      "Intercept of Regression \t: b =  [127.75153175]\n",
      "\n",
      "                         Predictors  Coefficients\n",
      "0                          bedrooms  5.204129e+01\n",
      "1                         breakfast  5.626543e-02\n",
      "2                                tv  2.446163e+00\n",
      "3                       white_goods -5.461383e-01\n",
      "4                          elevator  1.022139e+01\n",
      "5                               gym  3.362993e-01\n",
      "6             hot_tub_sauna_or_pool  2.753664e+00\n",
      "7                          internet -2.264288e+00\n",
      "8                      pets_allowed -2.425457e+00\n",
      "9                            secure  9.356593e-01\n",
      "10                       accessible -9.928171e-01\n",
      "11                number_of_reviews -3.861640e+00\n",
      "12        room_type_Entire_home_apt -5.958667e+13\n",
      "13           room_type_Private_room -5.808418e+13\n",
      "14            room_type_Shared_room -2.176726e+13\n",
      "15          property_type_Apartment  6.711730e+13\n",
      "16  property_type_Bed_and_Breakfast  1.322372e+13\n",
      "17        property_type_Condominium  2.058969e+13\n",
      "18              property_type_House  6.720501e+13\n",
      "19               property_type_Loft  1.374391e+13\n",
      "20              property_type_Other  2.058969e+13\n",
      "21          property_type_Townhouse  2.336099e+13\n",
      "\n"
     ]
    }
   ],
   "execution_count": 17
  },
  {
   "metadata": {
    "ExecuteTime": {
     "end_time": "2025-06-11T12:54:57.522251Z",
     "start_time": "2025-06-11T12:54:57.503865Z"
    }
   },
   "cell_type": "code",
   "source": [
    "# Predict Response corresponding to Predictors\n",
    "trainPredictionLR = lr.predict(X_train)\n",
    "testPredictionLR = lr.predict(X_test)"
   ],
   "id": "dd505e6e3fa9aa3f",
   "outputs": [],
   "execution_count": 19
  },
  {
   "metadata": {
    "ExecuteTime": {
     "end_time": "2025-06-11T12:55:30.533216Z",
     "start_time": "2025-06-11T12:55:29.780125Z"
    }
   },
   "cell_type": "code",
   "source": [
    "# Plot the Predictions vs the True values\n",
    "f, axes = plt.subplots(1, 2, figsize=(24, 12))\n",
    "axes[0].scatter(y_train, trainPredictionLR, color = \"blue\")\n",
    "axes[0].plot(y_train, y_train, 'g-', linewidth = 5)\n",
    "axes[0].set_xlabel(\"True values of the Response Variable (Train)\")\n",
    "axes[0].set_ylabel(\"Predicted values of the Response Variable (Train)\")\n",
    "axes[1].scatter(y_test, testPredictionLR, color = \"red\")\n",
    "axes[1].plot(y_test, y_test, 'g-', linewidth = 5)\n",
    "axes[1].set_xlabel(\"True values of the Response Variable (Test)\")\n",
    "axes[1].set_ylabel(\"Predicted values of the Response Variable (Test)\")"
   ],
   "id": "2ad3110cd3ca42da",
   "outputs": [
    {
     "data": {
      "text/plain": [
       "Text(0, 0.5, 'Predicted values of the Response Variable (Test)')"
      ]
     },
     "execution_count": 20,
     "metadata": {},
     "output_type": "execute_result"
    },
    {
     "data": {
      "text/plain": [
       "<Figure size 2400x1200 with 2 Axes>"
      ],
      "image/png": "[encoded data removed]"
     },
     "metadata": {},
     "output_type": "display_data"
    }
   ],
   "execution_count": 20
  },
  {
   "metadata": {},
   "cell_type": "markdown",
   "source": [
    "### MODEL 2: Ridge Regression\n",
    "\n",
    "\n",
    "Ridge Regression is meant to be an upgrade to linear regression. It is similar to linear regression where it can be used to for regression and classification.\n",
    "\n",
    "Ridge Regression is good at handling overfitting.\n",
    "\n",
    "The difference in the equation for Ridge Regression is that it penalize RSS by adding another term and search for the minimization.\n",
    "\n",
    "We can iterate different \n",
    " values as the additional term to find the best fit for a Ridge Regression model.\n",
    "\n",
    "Ridge Regression does not drop any predictors unlike Lasso Regression, which is we will observe later on that the beta estimate will only converge to zero, but never reach zero."
   ],
   "id": "c96f25bb7e971c4b"
  },
  {
   "metadata": {
    "ExecuteTime": {
     "end_time": "2025-06-11T13:01:51.990247Z",
     "start_time": "2025-06-11T13:01:51.970349Z"
    }
   },
   "cell_type": "code",
   "source": [
    "varArr = np.array([\"bedrooms\", \"breakfast\", \"tv\", \"white_goods\", \"elevator\", \"gym\", \"hot_tub_sauna_or_pool\",\n",
    "                   \"internet\", \"pets_allowed\", \"secure\", \"accessible\",\"number_of_reviews\",\"room_type_Entire_home_apt\",\n",
    "                   \"room_type_Private room\", \"room_type_Shared_room\", \"property_type_Apartment\",\n",
    "                   \"property_type_Bed_and_Breakfast\", \"property_type_Condominium\", \"property_type_House\",\n",
    "                   \"property_type_Loft\", \"property_type_Other\", \"property_type_Townhouse\"])"
   ],
   "id": "6e1c2c07b34893b0",
   "outputs": [],
   "execution_count": 21
  },
  {
   "metadata": {},
   "cell_type": "code",
   "outputs": [],
   "execution_count": null,
   "source": [
    "ridgereg=Ridge(alpha=0).fit(X_train, y_train)\n",
    "\n",
    "\n",
    "ridgeTrainPred=[]\n",
    "ridgeTestPred=[]\n",
    "ridgeR2score=[]\n",
    "paravalue=[]\n",
    "\n",
    "para=np.arange(0,2000,1)\n",
    "\n",
    "ridgeDF=pd.DataFrame({'variable': varArr, 'estimate': ridgereg.coef_.ravel()})\n",
    "\n",
    "for i in para:\n",
    "    "
   ],
   "id": "32ebb9b01706777"
  }
 ],
 "metadata": {
  "kernelspec": {
   "display_name": "Python 3",
   "language": "python",
   "name": "python3"
  },
  "language_info": {
   "codemirror_mode": {
    "name": "ipython",
    "version": 2
   },
   "file_extension": ".py",
   "mimetype": "text/x-python",
   "name": "python",
   "nbconvert_exporter": "python",
   "pygments_lexer": "ipython2",
   "version": "2.7.6"
  }
 },
 "nbformat": 4,
 "nbformat_minor": 5
}
